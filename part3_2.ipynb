{
 "cells": [
  {
   "cell_type": "markdown",
   "metadata": {},
   "source": [
    "# Part 3: preparing input file for GREAT tool"
   ]
  },
  {
   "cell_type": "markdown",
   "metadata": {},
   "source": [
    "In this bash notebook we prepare input file for GREAT tool to perform annotation enrichment analysis to the peaks we found in Part 2. GREAT requires the input to be in BED file format. In a BED file each of the rows defines a genomic region, which are the peak locations in this case. Each row consists of tab-delimited columns with chromosome information and region start and end coordinates, plus other possible information. Please see the BED file format definition in [GREAT manual](https://great-help.atlassian.net/wiki/spaces/GREAT/pages/655452/File+Formats) for more information, only the first three columns (chromosome, genomic region start and end site) are needed in this case."
   ]
  },
  {
   "cell_type": "markdown",
   "metadata": {},
   "source": [
    "First, go to the folder where you have stored the peak file. **Alternatively**, you can add the whole paths before the file names in all following commands"
   ]
  },
  {
   "cell_type": "code",
   "execution_count": 1,
   "metadata": {},
   "outputs": [],
   "source": [
    "cd /coursedata/users/leey17/part_2"
   ]
  },
  {
   "cell_type": "markdown",
   "metadata": {},
   "source": [
    "Pick the first three columns of the peak file with **cut** tool. With option **-f** we can define which columns we want to extract from the input file. The tool assumes the input file to be tab-delimited by default. Replace \"peak_file.bed\" with the name of your peak file."
   ]
  },
  {
   "cell_type": "code",
   "execution_count": 2,
   "metadata": {},
   "outputs": [],
   "source": [
    "cut -f1-3 NR3C1_0hour_vs_1hour_c3.0_cond2.bed > peak_file_for_GREAT.bed"
   ]
  },
  {
   "cell_type": "markdown",
   "metadata": {},
   "source": [
    "Use the following **uniq** command to print out a list of chromosome names which occur in the peak file"
   ]
  },
  {
   "cell_type": "code",
   "execution_count": 4,
   "metadata": {},
   "outputs": [
    {
     "name": "stdout",
     "output_type": "stream",
     "text": [
      "track name=\"condition 2 (peaks)\" description=\"unique regions in condition 2\" visibility=1\n",
      "chr1\n",
      "chr10\n",
      "chr11\n",
      "chr12\n",
      "chr13\n",
      "chr14\n",
      "chr15\n",
      "chr16\n",
      "chr17\n",
      "chr18\n",
      "chr19\n",
      "chr2\n",
      "chr20\n",
      "chr21\n",
      "chr22\n",
      "chr22_KI270731v1_random\n",
      "chr22_KI270734v1_random\n",
      "chr3\n",
      "chr4\n",
      "chr5\n",
      "chr6\n",
      "chr7\n",
      "chr8\n",
      "chr9\n",
      "chrUn_GL000195v1\n",
      "chrUn_KI270333v1\n",
      "chrUn_KI270336v1\n",
      "chrUn_KI270337v1\n",
      "chrUn_KI270466v1\n",
      "chrUn_KI270467v1\n",
      "chrX\n",
      "chrY\n"
     ]
    }
   ],
   "source": [
    "uniq <(cut -f1 peak_file_for_GREAT.bed)"
   ]
  },
  {
   "cell_type": "markdown",
   "metadata": {},
   "source": [
    "first we apply **cut** command to pick the first column containing the chromosome names. **<()** gives the output of the **cut** command to **uniq**. **uniq** prints a list of unique elements in the input, in this case, a list of the different chromosome names.\n",
    "\n",
    "If there are any chromosome names ending with *_random* or starting with *chrUn_*, they have to be removed as GREAT might give errors because of these chromosomes. Removing peaks from these chromosomes should not affect the GREAT analysis. If we have for example chromosome name called *chr22_KI270731v1_random* in the *peak_file_for_GREAT.bed* file, the rows that have this value in column 1 (i.e. the column with chromatin information) can be removed with the following command"
   ]
  },
  {
   "cell_type": "code",
   "execution_count": 34,
   "metadata": {},
   "outputs": [],
   "source": [
    "awk '{ if ($1!=\"chr22_KI270731v1_random\") print}' peak_file_for_GREAT.bed > peak_file_for_GREAT_filtered1.bed"
   ]
  },
  {
   "cell_type": "code",
   "execution_count": 35,
   "metadata": {},
   "outputs": [],
   "source": [
    "awk '{ if ($1!=\"chr22_KI270734v1_random\") print}' peak_file_for_GREAT_filtered1.bed > peak_file_for_GREAT_filtered2.bed"
   ]
  },
  {
   "cell_type": "code",
   "execution_count": 36,
   "metadata": {},
   "outputs": [],
   "source": [
    "awk '{ if ($1!=\"chrUn_GL000195v1\") print}' peak_file_for_GREAT_filtered2.bed > peak_file_for_GREAT_filtered3.bed"
   ]
  },
  {
   "cell_type": "code",
   "execution_count": 37,
   "metadata": {},
   "outputs": [],
   "source": [
    "awk '{ if ($1!=\"chrUn_KI270333v1\") print}' peak_file_for_GREAT_filtered3.bed > peak_file_for_GREAT_filtered4.bed"
   ]
  },
  {
   "cell_type": "code",
   "execution_count": 38,
   "metadata": {},
   "outputs": [],
   "source": [
    "awk '{ if ($1!=\"chrUn_KI270336v1\") print}' peak_file_for_GREAT_filtered4.bed > peak_file_for_GREAT_filtered5.bed"
   ]
  },
  {
   "cell_type": "code",
   "execution_count": 39,
   "metadata": {},
   "outputs": [],
   "source": [
    "awk '{ if ($1!=\"chrUn_KI270337v1\") print}' peak_file_for_GREAT_filtered5.bed > peak_file_for_GREAT_filtered6.bed"
   ]
  },
  {
   "cell_type": "code",
   "execution_count": 40,
   "metadata": {},
   "outputs": [],
   "source": [
    "awk '{ if ($1!=\"chrUn_KI270466v1\") print}' peak_file_for_GREAT_filtered6.bed > peak_file_for_GREAT_filtered7.bed"
   ]
  },
  {
   "cell_type": "code",
   "execution_count": 41,
   "metadata": {},
   "outputs": [],
   "source": [
    "awk '{ if ($1!=\"chrUn_KI270467v1\") print}' peak_file_for_GREAT_filtered7.bed > peak_file_for_GREAT_filtered8.bed"
   ]
  },
  {
   "cell_type": "markdown",
   "metadata": {},
   "source": [
    "**awk** prints each line of the input file for which the column 1 does not have value *chr22_KI270731v1_random*."
   ]
  },
  {
   "cell_type": "markdown",
   "metadata": {},
   "source": [
    "Repeat this step  to all chromosomes with names ending with *_random* or starting with *chrUn_*, so that as a result you have file without any peaks with such chromosome locations."
   ]
  },
  {
   "cell_type": "code",
   "execution_count": null,
   "metadata": {},
   "outputs": [],
   "source": [
    "uniq <(cut -f1 peak_file_for_GREAT_filtered8.bed)"
   ]
  }
 ],
 "metadata": {
  "kernelspec": {
   "display_name": "Bash",
   "language": "bash",
   "name": "bash"
  },
  "language_info": {
   "codemirror_mode": "shell",
   "file_extension": ".sh",
   "mimetype": "text/x-sh",
   "name": "bash"
  }
 },
 "nbformat": 4,
 "nbformat_minor": 4
}
