{
 "cells": [
  {
   "cell_type": "markdown",
   "metadata": {},
   "source": [
    "# Part 3: preparing input file to WebGestalt tool"
   ]
  },
  {
   "cell_type": "markdown",
   "metadata": {},
   "source": [
    "First, set the folder where you have stored the edgeR results file as the current directory. **Alternatively**, you can add the whole file path before the file names in all following commands."
   ]
  },
  {
   "cell_type": "code",
   "execution_count": 9,
   "metadata": {},
   "outputs": [],
   "source": [
    "cd /coursedata/users/leey17"
   ]
  },
  {
   "cell_type": "markdown",
   "metadata": {},
   "source": [
    "In this bash notebook we prepare input file for **WebGestalt** tool. **Alternatively**, you may also prepare the input file already in R by picking the needed columns, sorting the rows and saving the result as a text file. In that case the **awk** and **sort** commands shown below are not needed. Report the steps you used to produce the GSEA input file and include the your R or bash script/notebook in your submission.\n",
    "\n",
    "For the GSEA analysis we need to give WebGestalt a ranked gene list file as an input. The file name extension for this format is .rnk. The file should contain the gene names in the first column and log-fold change as the second column. The file should be sorted in a descending order based on the log-fold change values.\n",
    "\n",
    "Use the **awk** and **tail** command combination below to extract the gene name and log-fold change columns from the edgeR analysis result file from Part 1 (expected columns for gene name and log-fold change are 12 and 2 respectively, check your own file before applying the **awk** command below). The columns are stored in a new file with the .rnk file name extension.\n",
    "\n",
    "Replace \"edgeR_results.txt\" with the name of your edgeR result file."
   ]
  },
  {
   "cell_type": "code",
   "execution_count": 10,
   "metadata": {},
   "outputs": [],
   "source": [
    "awk '{ print $12\"\\t\"$2 }' <(tail -n +2 result_part1.txt) > edgeR_results_forGSEA.rnk"
   ]
  },
  {
   "cell_type": "markdown",
   "metadata": {},
   "source": [
    "This command has the following interpretation: the output of the command inside **<()** is given as input to the **awk** command. The command **tail** removes the header line by printing the rows starting from row two ( **tail -n +NUM** outputs rows starting from row NUM). The **tail** command step can also be done separately. The **awk** command prints the 12th and 2nd column of the text file (the columns can be referred to with dollar symbol $NUM), separated with tab (must be given with backslash as it is a special character!).\n",
    "\n",
    "As R command **write.table** includes quotation marks around text or factor values by default (you might want to use **quote = FALSE** argument with **write.table** to avoid this), the removal of the quotation marks might be needed. This can be done with **sed** command"
   ]
  },
  {
   "cell_type": "code",
   "execution_count": 11,
   "metadata": {},
   "outputs": [],
   "source": [
    "sed 's/\\\"//g' edgeR_results_forGSEA.rnk > edgeR_results_forGSEA_noQs.rnk"
   ]
  },
  {
   "cell_type": "markdown",
   "metadata": {},
   "source": [
    "with **'s/\\\\\"//g'** we tell **sed** to substitute (**s**) character **\"** (backslash has to be used as it is a special character) with nothing (the space between /'s is empty in **\\\\\"//g**) and do this to all instances of **\"** in the file (**g**). These instructions are separated with **/** character in the command."
   ]
  },
  {
   "cell_type": "markdown",
   "metadata": {},
   "source": [
    "Then run this command to sort the file based on the score"
   ]
  },
  {
   "cell_type": "code",
   "execution_count": 12,
   "metadata": {},
   "outputs": [],
   "source": [
    "sort -g -r -k2,2 edgeR_results_forGSEA_noQs.rnk > edgeR_results_forGSEA_noQs_sorted.rnk"
   ]
  },
  {
   "cell_type": "markdown",
   "metadata": {},
   "source": [
    "**sort** command sorts files by lines. The parameter **-r** sets the output in descending order, **-k2,2** specifies which column(s) to use for sorting (the 2nd column with the log-fold changes in this case) and **-g** means that the values are sorted as general numeric values. \n",
    "\n",
    "**Note:** Check that the sorting result is correct! Launch a terminal session and run command **less edgeR_results_forGSEA_noQs_sorted.rnk**, with which you can view the contents of the file easily (exit **less** by typing **q**). Check especially the sorting of the negative values. If the order is not correct, it might be needed to add command **LC_ALL=C** before the sort command. By adding **LC_ALL=C** before the sort command, we override the localisation settings in the environment, as those settings might affect the order of the sorting. However, this addition should not be needed if you run the **sort** command in the Jupyterhub environment."
   ]
  },
  {
   "cell_type": "markdown",
   "metadata": {},
   "source": [
    "Remember to use .rnk file name extension for the WebGestalt input file! If you forgot this earlier, you may rename your file with **mv** command as shown below, replace the file names accordingly"
   ]
  },
  {
   "cell_type": "code",
   "execution_count": null,
   "metadata": {},
   "outputs": [],
   "source": [
    "mv old_file_name.txt new_file_name.rnk"
   ]
  }
 ],
 "metadata": {
  "kernelspec": {
   "display_name": "Bash",
   "language": "bash",
   "name": "bash"
  },
  "language_info": {
   "codemirror_mode": "shell",
   "file_extension": ".sh",
   "mimetype": "text/x-sh",
   "name": "bash"
  }
 },
 "nbformat": 4,
 "nbformat_minor": 4
}
