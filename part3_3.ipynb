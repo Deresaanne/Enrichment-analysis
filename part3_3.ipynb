{
 "cells": [
  {
   "cell_type": "markdown",
   "metadata": {},
   "source": [
    "# Part 3: combining results from RNA-seq and ChIP-seq analyses"
   ]
  },
  {
   "cell_type": "markdown",
   "metadata": {},
   "source": [
    "In this notebook we combine the results from parts 1 and 2 by finding ChIP-seq peaks that have differentially expressed genes nearby. Fill in the parts with ### and include the filled template as part of your submission."
   ]
  },
  {
   "cell_type": "markdown",
   "metadata": {},
   "source": [
    "Set the working directory "
   ]
  },
  {
   "cell_type": "code",
   "execution_count": 5,
   "metadata": {},
   "outputs": [],
   "source": [
    "setwd(\"/coursedata/users/leey17/part_3\")"
   ]
  },
  {
   "cell_type": "markdown",
   "metadata": {},
   "source": [
    "We will be using **GenomicRanges** package, so first let's import it"
   ]
  },
  {
   "cell_type": "code",
   "execution_count": 6,
   "metadata": {},
   "outputs": [
    {
     "name": "stderr",
     "output_type": "stream",
     "text": [
      "Loading required package: stats4\n",
      "\n",
      "Loading required package: BiocGenerics\n",
      "\n",
      "Loading required package: parallel\n",
      "\n",
      "\n",
      "Attaching package: ‘BiocGenerics’\n",
      "\n",
      "\n",
      "The following objects are masked from ‘package:parallel’:\n",
      "\n",
      "    clusterApply, clusterApplyLB, clusterCall, clusterEvalQ,\n",
      "    clusterExport, clusterMap, parApply, parCapply, parLapply,\n",
      "    parLapplyLB, parRapply, parSapply, parSapplyLB\n",
      "\n",
      "\n",
      "The following objects are masked from ‘package:stats’:\n",
      "\n",
      "    IQR, mad, sd, var, xtabs\n",
      "\n",
      "\n",
      "The following objects are masked from ‘package:base’:\n",
      "\n",
      "    anyDuplicated, append, as.data.frame, basename, cbind, colnames,\n",
      "    dirname, do.call, duplicated, eval, evalq, Filter, Find, get, grep,\n",
      "    grepl, intersect, is.unsorted, lapply, Map, mapply, match, mget,\n",
      "    order, paste, pmax, pmax.int, pmin, pmin.int, Position, rank,\n",
      "    rbind, Reduce, rownames, sapply, setdiff, sort, table, tapply,\n",
      "    union, unique, unsplit, which, which.max, which.min\n",
      "\n",
      "\n",
      "Loading required package: S4Vectors\n",
      "\n",
      "\n",
      "Attaching package: ‘S4Vectors’\n",
      "\n",
      "\n",
      "The following object is masked from ‘package:base’:\n",
      "\n",
      "    expand.grid\n",
      "\n",
      "\n",
      "Loading required package: IRanges\n",
      "\n",
      "Loading required package: GenomeInfoDb\n",
      "\n"
     ]
    }
   ],
   "source": [
    "library(\"GenomicRanges\")"
   ]
  },
  {
   "cell_type": "markdown",
   "metadata": {},
   "source": [
    "Load file containing chromatin lengths"
   ]
  },
  {
   "cell_type": "code",
   "execution_count": 7,
   "metadata": {},
   "outputs": [],
   "source": [
    "human.chromlens <- readRDS(\"/coursedata/project/human.chromlens.RDS\")"
   ]
  },
  {
   "cell_type": "markdown",
   "metadata": {},
   "source": [
    "Define the ChIP-seq peak file name and its path and load the file into the workspace"
   ]
  },
  {
   "cell_type": "code",
   "execution_count": 8,
   "metadata": {},
   "outputs": [],
   "source": [
    "ChIP_seq_results_filename=\"/coursedata/users/leey17/part_2/NR3C1_0hour_vs_1hour_c3.0_cond2.bed\"\n",
    "peak_file_0based <-read.table(ChIP_seq_results_filename, skip=1, stringsAsFactors = FALSE)#first row of the file is skipped as it is not a peak"
   ]
  },
  {
   "cell_type": "markdown",
   "metadata": {},
   "source": [
    "Pick the first three columns from the peak file and name them "
   ]
  },
  {
   "cell_type": "code",
   "execution_count": 9,
   "metadata": {},
   "outputs": [],
   "source": [
    "peak_file_1based <- peak_file_0based[c(1,2,3)]\n",
    "colnames(peak_file_1based)<-c(\"chrom\",\"start\",\"end\")"
   ]
  },
  {
   "cell_type": "markdown",
   "metadata": {},
   "source": [
    "In BED files the coordinate indexing starts from 0. In this analysis we need 1-based indexing so we add 1 to coordinate columns."
   ]
  },
  {
   "cell_type": "code",
   "execution_count": 10,
   "metadata": {},
   "outputs": [],
   "source": [
    "peak_file_1based[2]<- peak_file_1based[2]+1\n",
    "peak_file_1based[3]<- peak_file_1based[3]+1"
   ]
  },
  {
   "cell_type": "markdown",
   "metadata": {},
   "source": [
    "Make a Granges object of the peak file object"
   ]
  },
  {
   "cell_type": "code",
   "execution_count": 11,
   "metadata": {},
   "outputs": [],
   "source": [
    "peak_GRanges<-as(peak_file_1based,\"GRanges\")"
   ]
  },
  {
   "cell_type": "markdown",
   "metadata": {},
   "source": [
    "Define the edgeR results file name and its path and load the file into the workspace"
   ]
  },
  {
   "cell_type": "code",
   "execution_count": 12,
   "metadata": {},
   "outputs": [],
   "source": [
    "edgeR_results_filename=\"/coursedata/users/leey17/result_part1.txt\"\n",
    "\n",
    "edgeR_table <-read.table(edgeR_results_filename, header=TRUE, stringsAsFactors = FALSE)"
   ]
  },
  {
   "cell_type": "markdown",
   "metadata": {},
   "source": [
    "Make a data frame containing the edgeR results"
   ]
  },
  {
   "cell_type": "code",
   "execution_count": 13,
   "metadata": {},
   "outputs": [],
   "source": [
    "df<-data.frame(chrom=edgeR_table$Chromosome,\n",
    "               start=edgeR_table$Gene_Start_Base,\n",
    "               end=edgeR_table$Gene_End_Base,\n",
    "               strand=edgeR_table$Strand,\n",
    "               Ensembl_Gene_IDs=edgeR_table$Ensembl_Gene_IDs,\n",
    "               logFC=edgeR_table$logFC,\n",
    "                logCPM=edgeR_table$logCPM,\n",
    "               LR=edgeR_table$LR,\n",
    "               PValue=edgeR_table$PValue,\n",
    "               FDR=edgeR_table$FDR, \n",
    "                Attribute=edgeR_table$Attribute,\n",
    "               Gene_Names=edgeR_table$Gene_Symbols)"
   ]
  },
  {
   "cell_type": "markdown",
   "metadata": {},
   "source": [
    "Pick genes with FDR<=0.05, i.e. the differentially expressed ones, from the data frame object"
   ]
  },
  {
   "cell_type": "code",
   "execution_count": 14,
   "metadata": {},
   "outputs": [],
   "source": [
    "df$FDR <- as.numeric(as.character(df$FDR))\n"
   ]
  },
  {
   "cell_type": "code",
   "execution_count": 15,
   "metadata": {},
   "outputs": [],
   "source": [
    "df_filtered <- df[df$FDR<=0.05,]"
   ]
  },
  {
   "cell_type": "markdown",
   "metadata": {},
   "source": [
    "Make a GRanges object out of the data frame"
   ]
  },
  {
   "cell_type": "code",
   "execution_count": 16,
   "metadata": {},
   "outputs": [],
   "source": [
    "diff_exp_genes <- makeGRangesFromDataFrame(df_filtered, keep.extra.columns=TRUE, seqinfo=Seqinfo(seqnames=names(human.chromlens),\n",
    "                      seqlengths=human.chromlens,\n",
    "                      isCircular=c( rep(FALSE, length(human.chromlens)-1), TRUE ),\n",
    "                      genome=\"hgs38\"))"
   ]
  },
  {
   "cell_type": "markdown",
   "metadata": {},
   "source": [
    "Resize the genomic ranges intervals to length 1, use start coordinate as an anchor to each element."
   ]
  },
  {
   "cell_type": "code",
   "execution_count": 17,
   "metadata": {},
   "outputs": [],
   "source": [
    "diff_exp_genes_TSS=resize(diff_exp_genes,1, fix=\"start\")"
   ]
  },
  {
   "cell_type": "markdown",
   "metadata": {},
   "source": [
    "Calculate the distance between the peak and the nearest gene"
   ]
  },
  {
   "cell_type": "code",
   "execution_count": 18,
   "metadata": {},
   "outputs": [
    {
     "name": "stderr",
     "output_type": "stream",
     "text": [
      "Warning message in .Seqinfo.mergexy(x, y):\n",
      "“Each of the 2 combined objects has sequence levels not in the other:\n",
      "  - in 'x': chr22_KI270731v1_random, chr22_KI270734v1_random, chrUn_GL000195v1, chrUn_KI270333v1, chrUn_KI270336v1, chrUn_KI270337v1, chrUn_KI270466v1, chrUn_KI270467v1\n",
      "  - in 'y': chrM\n",
      "  Make sure to always combine/compare objects based on the same reference\n",
      "  genome (use suppressWarnings() to suppress this warning).”\n"
     ]
    }
   ],
   "source": [
    "tmp=distanceToNearest(peak_GRanges,diff_exp_genes_TSS, ignore.strand=TRUE)"
   ]
  },
  {
   "cell_type": "markdown",
   "metadata": {},
   "source": [
    "Plot a histogram of the distances between peaks and genes just to see how the results look like"
   ]
  },
  {
   "cell_type": "code",
   "execution_count": 19,
   "metadata": {},
   "outputs": [
    {
     "data": {
      "image/png": "[encoded data removed]",
      "text/plain": [
       "Plot with title “Histogram of elementMetadata(tmp)$distance”"
      ]
     },
     "metadata": {
      "image/png": {
       "height": 420,
       "width": 420
      }
     },
     "output_type": "display_data"
    }
   ],
   "source": [
    "hist(elementMetadata(tmp)$distance, breaks=3000, xlim=c(0,1000000)) "
   ]
  },
  {
   "cell_type": "markdown",
   "metadata": {},
   "source": [
    "Find peaks with DE genes nearby, the maximum distance between the peak and gene is 100000 basepairs"
   ]
  },
  {
   "cell_type": "code",
   "execution_count": 20,
   "metadata": {},
   "outputs": [],
   "source": [
    "max_dist=100000\n",
    "peaks_with_DE_genes_nearby<-peak_GRanges[queryHits(tmp)]"
   ]
  },
  {
   "cell_type": "markdown",
   "metadata": {},
   "source": [
    "Define the file name and path where the results are stored"
   ]
  },
  {
   "cell_type": "code",
   "execution_count": 22,
   "metadata": {},
   "outputs": [],
   "source": [
    "output_filename=\"/coursedata/users/leey17/part_3/overlap_results.bed\""
   ]
  },
  {
   "cell_type": "markdown",
   "metadata": {},
   "source": [
    "Save results"
   ]
  },
  {
   "cell_type": "code",
   "execution_count": 23,
   "metadata": {},
   "outputs": [],
   "source": [
    "write.table(as.data.frame(peaks_with_DE_genes_nearby),file = output_filename, sep=\"\\t\", quote = FALSE,row.names = FALSE,col.names=FALSE)"
   ]
  }
 ],
 "metadata": {
  "kernelspec": {
   "display_name": "R",
   "language": "R",
   "name": "ir"
  },
  "language_info": {
   "codemirror_mode": "r",
   "file_extension": ".r",
   "mimetype": "text/x-r-source",
   "name": "R",
   "pygments_lexer": "r",
   "version": "3.6.3"
  }
 },
 "nbformat": 4,
 "nbformat_minor": 4
}
